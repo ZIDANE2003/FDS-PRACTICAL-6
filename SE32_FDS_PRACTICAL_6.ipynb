{
  "nbformat": 4,
  "nbformat_minor": 0,
  "metadata": {
    "colab": {
      "name": "SE32 FDS PRACTICAL 6 ",
      "provenance": [],
      "collapsed_sections": [],
      "toc_visible": true,
      "include_colab_link": true
    },
    "kernelspec": {
      "display_name": "Python 3",
      "name": "python3"
    }
  },
  "cells": [
    {
      "cell_type": "markdown",
      "metadata": {
        "id": "view-in-github",
        "colab_type": "text"
      },
      "source": [
        "<a href=\"https://colab.research.google.com/github/ZIDANE2003/FDS-PRACTICAL-6/blob/main/SE32_FDS_PRACTICAL_6.ipynb\" target=\"_parent\"><img src=\"https://colab.research.google.com/assets/colab-badge.svg\" alt=\"Open In Colab\"/></a>"
      ]
    },
    {
      "cell_type": "code",
      "metadata": {
        "id": "LtYlQMedw8MG",
        "colab": {
          "base_uri": "https://localhost:8080/"
        },
        "outputId": "d67e1fb6-a050-4b7e-f162-acf759ed56a9"
      },
      "source": [
        "m=int(input(\"enter no of row:\"))\n",
        "n=int(input(\"enter no of col:\"))\n",
        "o=[]\n",
        "for i in range(m):\n",
        "  row=[]\n",
        "  for j in range(n):\n",
        "    num=int(input())\n",
        "    row.append(num)\n",
        "  o.append(row) \n",
        "print(\"Fisrt Matrix is :\",o) \n",
        "a=[]\n",
        "for i in range(m):\n",
        "  row=[]\n",
        "  for j in range(n):\n",
        "    num=int(input())\n",
        "    row.append(num)\n",
        "  a.append(row) \n",
        "print(\"Second Matrix is :\",a)  \n",
        "s1=[] \n",
        "for i in range(m):\n",
        "  for j in range(n):\n",
        "    if (o[i][j]!=0):\n",
        "      b=[]\n",
        "      b.append(i)\n",
        "      b.append(j)\n",
        "      b.append(o[i][j])\n",
        "      s1.append(b)\n",
        "print(\"Fisrt Spare Matrix is :\",s1) \n",
        "s2=[] \n",
        "for i in range(m):\n",
        "  for j in range(n):\n",
        "    if (o[i][j]!=0):\n",
        "      b=[]\n",
        "      b.append(i)\n",
        "      b.append(j)\n",
        "      b.append(a[i][j])\n",
        "      s2.append(b)\n",
        "print(\"Second Spare Matrix is :\",s2)    \n",
        "\n",
        "def add(s1,s2):\n",
        "  result=[[0,0,0],[0,0,0],[0,0,0],[0,0,0],[0,0,0]]\n",
        "  for i in range (len(s1)):\n",
        "    for i in range (len(s1[0])):\n",
        "      result[i][j]=s1[i][j]+s2[i][j]\n",
        "  print(result)\n",
        "print(\"Addition of Sparse Matrix is:\")\n",
        "add(s1,s2)  \n",
        "\n",
        "def transpose(s1):\n",
        "  flag=[]\n",
        "  for i in s1:\n",
        "    flag0.append([i[1], i[0], i[2]])\n",
        "  print(flag) \n",
        "print(\"Transpose of First Sparse Matrix is :\")   \n",
        "transpose(s1)\n",
        "print(\"Transpose of Second Sparse Matrix is :\")\n",
        "transpose(s2)\n",
        "\n",
        "\n",
        "\n"
      ],
      "execution_count": null,
      "outputs": [
        {
          "output_type": "stream",
          "name": "stdout",
          "text": [
            "enter no of row:3\n",
            "enter no of col:3\n",
            "0\n",
            "0\n",
            "0\n",
            "0\n",
            "8\n",
            "0\n",
            "4\n",
            "0\n",
            "4\n",
            "Fisrt Matrix is : [[0, 0, 0], [0, 8, 0], [4, 0, 4]]\n",
            "2\n",
            "0\n",
            "0\n",
            "0\n",
            "0\n",
            "5\n",
            "0\n",
            "0\n",
            "1\n",
            "Second Matrix is : [[2, 0, 0], [0, 0, 5], [0, 0, 1]]\n",
            "Fisrt Spare Matrix is : [[1, 1, 8], [2, 0, 4], [2, 2, 4]]\n",
            "Second Spare Matrix is : [[1, 1, 0], [2, 0, 0], [2, 2, 1]]\n",
            "Addition of Sparse Matrix is:\n",
            "[[0, 0, 8], [0, 0, 4], [0, 0, 5], [0, 0, 0], [0, 0, 0]]\n",
            "Transpose of First Sparse Matrix is :\n",
            "[[1, 1, 8], [0, 2, 4], [2, 2, 4]]\n",
            "Transpose of Second Sparse Matrix is :\n",
            "[[1, 1, 0], [0, 2, 0], [2, 2, 1]]\n"
          ]
        }
      ]
    }
  ]
}